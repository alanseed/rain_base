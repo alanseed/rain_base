{
 "cells": [
  {
   "cell_type": "code",
   "execution_count": 50,
   "source": [
    "import gridfs\n",
    "from pymongo import MongoClient\n",
    "from netCDF4 import Dataset \n",
    "import os\n",
    "import numpy "
   ],
   "outputs": [],
   "metadata": {}
  },
  {
   "cell_type": "code",
   "execution_count": 51,
   "source": [
    "# function to read the nc file and get some field stats to use as metadata \n",
    "def get_field_stats(buf):\n",
    "    ncFile = Dataset(\"fname\", mode=\"r\", memory=buf)\n",
    "    scaled_rain = ncFile['rain_rate'][:]\n",
    "    scale_factor = ncFile.variables['rain_rate'].scale_factor \n",
    "    rain = scaled_rain * scale_factor \n",
    "    \n",
    "    mean = rain.mean()\n",
    "    std = rain.std()\n",
    "    rain_area = (rain > 0.1).sum()\n",
    "    valid_area = rain.count()\n",
    "    war = 100 * rain_area / valid_area \n",
    "    return mean, std, war "
   ],
   "outputs": [],
   "metadata": {}
  },
  {
   "cell_type": "code",
   "execution_count": 52,
   "source": [
    "rf3_name=\"/home/awseed/data/RF3/prcp-crate/2021/20210129/310_20210129_003000.prcp-crate.nc\" \n",
    "sat_name=\"/home/awseed/data/SAT/crr-ph/2021/20210129/20210129030000-P1S-ABOM_CRRPH-PRJ_AEA132_2000-HIMAWARI8-AHI.nc\" "
   ],
   "outputs": [],
   "metadata": {}
  },
  {
   "cell_type": "code",
   "execution_count": 53,
   "source": [
    "# read the ncfile into memory \n",
    "nc_file = open(rf3_name,\"rb\")\n",
    "buf = nc_file.read() \n",
    "nc_file.close()"
   ],
   "outputs": [],
   "metadata": {}
  },
  {
   "cell_type": "code",
   "execution_count": 54,
   "source": [
    "# get the file name from the full path \n",
    "fname = os.path.basename(rf3_name)\n",
    "mean, std, war = get_field_stats(buf)\n",
    "print(f\"mean = {mean}, std = {std}, war = {war}\")"
   ],
   "outputs": [
    {
     "output_type": "stream",
     "name": "stdout",
     "text": [
      "mean = 0.011121399968009088, std = 0.07087733845757768, war = 3.032964689309136\n"
     ]
    }
   ],
   "metadata": {}
  },
  {
   "cell_type": "code",
   "execution_count": 55,
   "source": [
    "# # setup the database \n",
    "client = MongoClient()\n",
    "rain_base = client[\"rain_base_fs\"]\n",
    "fs = gridfs.GridFSBucket(rain_base) \n",
    "file_id = fs.upload_from_stream(fname,buf,metadata={\"mean\":mean,\"stdev\":std,\"WAR\":war})\n",
    "file_id"
   ],
   "outputs": [
    {
     "output_type": "execute_result",
     "data": {
      "text/plain": [
       "ObjectId('610c7c72eb33eec6974cffcf')"
      ]
     },
     "metadata": {},
     "execution_count": 55
    }
   ],
   "metadata": {}
  },
  {
   "cell_type": "code",
   "execution_count": null,
   "source": [
    "client.close()"
   ],
   "outputs": [],
   "metadata": {}
  }
 ],
 "metadata": {
  "orig_nbformat": 4,
  "language_info": {
   "name": "python",
   "version": "3.9.6",
   "mimetype": "text/x-python",
   "codemirror_mode": {
    "name": "ipython",
    "version": 3
   },
   "pygments_lexer": "ipython3",
   "nbconvert_exporter": "python",
   "file_extension": ".py"
  },
  "kernelspec": {
   "name": "python3",
   "display_name": "Python 3.9.6 64-bit ('rain_base': conda)"
  },
  "interpreter": {
   "hash": "cf6d8653a892b4c061ef89f2c098cc244a9531fbe7f40956bc5c2386f10950c8"
  }
 },
 "nbformat": 4,
 "nbformat_minor": 2
}