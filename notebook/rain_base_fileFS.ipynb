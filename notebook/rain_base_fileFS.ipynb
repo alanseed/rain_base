{
 "cells": [
  {
   "cell_type": "markdown",
   "metadata": {},
   "source": [
    "# Test reading a set of rainfields netCDF rain_rate files from the mongo database"
   ]
  },
  {
   "cell_type": "code",
   "execution_count": 1,
   "metadata": {},
   "outputs": [],
   "source": [
    "import datetime\n",
    "import os\n",
    "import gridfs as fs\n",
    "from pymongo import MongoClient\n",
    "from netCDF4 import Dataset\n",
    "from package import rain_base_fs\n"
   ]
  },
  {
   "cell_type": "code",
   "execution_count": 2,
   "metadata": {},
   "outputs": [],
   "source": [
    "def get_files(**kwargs):\n",
    "    \"\"\" Return a list of files that match the search criteria or None on error\n",
    "    \"\"\"\n",
    "    config = kwargs.get(\"config\", None)\n",
    "\n",
    "    # get configuration paramaters\n",
    "    start_time = datetime.datetime.fromisoformat(\n",
    "        config[\"START_DATE\"]).replace(tzinfo=datetime.timezone.utc)\n",
    "    end_time = datetime.datetime.fromisoformat(\n",
    "        config[\"END_DATE\"]).replace(tzinfo=datetime.timezone.utc)\n",
    "    station_id = int(config[\"STN_ID\"])\n",
    "    product = config[\"PRODUCT\"]\n",
    "\n",
    "    query = {}\n",
    "    query['metadata.valid_time'] = {'$gte': int(datetime.datetime.timestamp(\n",
    "        start_time)), '$lte': int(datetime.datetime.timestamp(end_time))}\n",
    "    query['metadata.station_id'] = station_id\n",
    "    query['metadata.product'] = product\n",
    "\n",
    "    client = MongoClient()\n",
    "    db = client[config[\"DB_NAME\"]]\n",
    "    cursor = db.fs.files.find(query).sort([(\"metadata.valid_time\",1)]) \n",
    "\n",
    "    file_list = []\n",
    "    if cursor is None:\n",
    "        print(\"None found\") \n",
    "        return None\n",
    "    else:\n",
    "        for doc in cursor:\n",
    "            file_list.append(doc[\"filename\"])\n",
    "    \n",
    "    client.close()\n",
    "    return file_list\n"
   ]
  },
  {
   "cell_type": "code",
   "execution_count": 3,
   "metadata": {},
   "outputs": [],
   "source": [
    "config = {\n",
    "    \"START_DATE\": \"2021-10-04T04:15:00\",\n",
    "    \"END_DATE\": \"2021-10-05T01:00:00\",\n",
    "    \"PRODUCT\": \"prcp-r15\",\n",
    "    \"STN_ID\": \"76\",\n",
    "    \"DB_NAME\": \"radar\",\n",
    "    \"VARIABLE\": \"precipitation\"\n",
    "}\n"
   ]
  },
  {
   "cell_type": "code",
   "execution_count": 4,
   "metadata": {},
   "outputs": [
    {
     "name": "stdout",
     "output_type": "stream",
     "text": [
      "['76_20211004_041500.prcp-r15.nc', '76_20211004_043000.prcp-r15.nc', '76_20211004_044500.prcp-r15.nc', '76_20211004_050000.prcp-r15.nc', '76_20211004_051500.prcp-r15.nc', '76_20211004_053000.prcp-r15.nc', '76_20211004_054500.prcp-r15.nc', '76_20211004_060000.prcp-r15.nc', '76_20211004_061500.prcp-r15.nc', '76_20211004_063000.prcp-r15.nc', '76_20211004_064500.prcp-r15.nc', '76_20211004_070000.prcp-r15.nc', '76_20211004_071500.prcp-r15.nc', '76_20211004_073000.prcp-r15.nc', '76_20211004_074500.prcp-r15.nc', '76_20211004_080000.prcp-r15.nc', '76_20211004_081500.prcp-r15.nc', '76_20211004_083000.prcp-r15.nc', '76_20211004_084500.prcp-r15.nc', '76_20211004_090000.prcp-r15.nc', '76_20211004_091500.prcp-r15.nc', '76_20211004_093000.prcp-r15.nc', '76_20211004_094500.prcp-r15.nc', '76_20211004_100000.prcp-r15.nc', '76_20211004_101500.prcp-r15.nc', '76_20211004_103000.prcp-r15.nc', '76_20211004_104500.prcp-r15.nc', '76_20211004_110000.prcp-r15.nc', '76_20211004_111500.prcp-r15.nc', '76_20211004_113000.prcp-r15.nc', '76_20211004_114500.prcp-r15.nc', '76_20211004_120000.prcp-r15.nc', '76_20211004_121500.prcp-r15.nc', '76_20211004_123000.prcp-r15.nc', '76_20211004_124500.prcp-r15.nc', '76_20211004_130000.prcp-r15.nc', '76_20211004_131500.prcp-r15.nc', '76_20211004_133000.prcp-r15.nc', '76_20211004_134500.prcp-r15.nc', '76_20211004_140000.prcp-r15.nc', '76_20211004_141500.prcp-r15.nc', '76_20211004_143000.prcp-r15.nc', '76_20211004_144500.prcp-r15.nc', '76_20211004_150000.prcp-r15.nc', '76_20211004_151500.prcp-r15.nc', '76_20211004_153000.prcp-r15.nc', '76_20211004_154500.prcp-r15.nc', '76_20211004_160000.prcp-r15.nc', '76_20211004_161500.prcp-r15.nc', '76_20211004_163000.prcp-r15.nc', '76_20211004_164500.prcp-r15.nc', '76_20211004_170000.prcp-r15.nc', '76_20211004_171500.prcp-r15.nc', '76_20211004_173000.prcp-r15.nc', '76_20211004_174500.prcp-r15.nc', '76_20211004_180000.prcp-r15.nc', '76_20211004_181500.prcp-r15.nc', '76_20211004_183000.prcp-r15.nc', '76_20211004_184500.prcp-r15.nc', '76_20211004_190000.prcp-r15.nc', '76_20211004_191500.prcp-r15.nc', '76_20211004_193000.prcp-r15.nc', '76_20211004_194500.prcp-r15.nc', '76_20211004_200000.prcp-r15.nc', '76_20211004_201500.prcp-r15.nc', '76_20211004_203000.prcp-r15.nc', '76_20211004_204500.prcp-r15.nc', '76_20211004_210000.prcp-r15.nc', '76_20211004_211500.prcp-r15.nc', '76_20211004_213000.prcp-r15.nc', '76_20211004_214500.prcp-r15.nc', '76_20211004_220000.prcp-r15.nc', '76_20211004_221500.prcp-r15.nc', '76_20211004_223000.prcp-r15.nc', '76_20211004_224500.prcp-r15.nc', '76_20211004_230000.prcp-r15.nc', '76_20211004_231500.prcp-r15.nc', '76_20211004_233000.prcp-r15.nc', '76_20211004_234500.prcp-r15.nc', '76_20211005_000000.prcp-r15.nc', '76_20211005_001500.prcp-r15.nc', '76_20211005_003000.prcp-r15.nc', '76_20211005_004500.prcp-r15.nc', '76_20211005_010000.prcp-r15.nc']\n"
     ]
    }
   ],
   "source": [
    "# get the list of file names that match this search \n",
    "file_list = get_files(config=config)\n",
    "print(file_list)"
   ]
  },
  {
   "cell_type": "code",
   "execution_count": 5,
   "metadata": {},
   "outputs": [
    {
     "name": "stdout",
     "output_type": "stream",
     "text": [
      "station_id=76, station_name='Koonya',2021-10-04T04:15:00+00:00\n",
      "station_id=76, station_name='Koonya',2021-10-04T04:30:00+00:00\n",
      "station_id=76, station_name='Koonya',2021-10-04T04:45:00+00:00\n",
      "station_id=76, station_name='Koonya',2021-10-04T05:00:00+00:00\n",
      "station_id=76, station_name='Koonya',2021-10-04T05:15:00+00:00\n",
      "station_id=76, station_name='Koonya',2021-10-04T05:30:00+00:00\n",
      "station_id=76, station_name='Koonya',2021-10-04T05:45:00+00:00\n",
      "station_id=76, station_name='Koonya',2021-10-04T06:00:00+00:00\n",
      "station_id=76, station_name='Koonya',2021-10-04T06:15:00+00:00\n",
      "station_id=76, station_name='Koonya',2021-10-04T06:30:00+00:00\n",
      "station_id=76, station_name='Koonya',2021-10-04T06:45:00+00:00\n",
      "station_id=76, station_name='Koonya',2021-10-04T07:00:00+00:00\n",
      "station_id=76, station_name='Koonya',2021-10-04T07:15:00+00:00\n",
      "station_id=76, station_name='Koonya',2021-10-04T07:30:00+00:00\n",
      "station_id=76, station_name='Koonya',2021-10-04T07:45:00+00:00\n",
      "station_id=76, station_name='Koonya',2021-10-04T08:00:00+00:00\n",
      "station_id=76, station_name='Koonya',2021-10-04T08:15:00+00:00\n",
      "station_id=76, station_name='Koonya',2021-10-04T08:30:00+00:00\n",
      "station_id=76, station_name='Koonya',2021-10-04T08:45:00+00:00\n",
      "station_id=76, station_name='Koonya',2021-10-04T09:00:00+00:00\n",
      "station_id=76, station_name='Koonya',2021-10-04T09:15:00+00:00\n",
      "station_id=76, station_name='Koonya',2021-10-04T09:30:00+00:00\n",
      "station_id=76, station_name='Koonya',2021-10-04T09:45:00+00:00\n",
      "station_id=76, station_name='Koonya',2021-10-04T10:00:00+00:00\n",
      "station_id=76, station_name='Koonya',2021-10-04T10:15:00+00:00\n",
      "station_id=76, station_name='Koonya',2021-10-04T10:30:00+00:00\n",
      "station_id=76, station_name='Koonya',2021-10-04T10:45:00+00:00\n",
      "station_id=76, station_name='Koonya',2021-10-04T11:00:00+00:00\n",
      "station_id=76, station_name='Koonya',2021-10-04T11:15:00+00:00\n",
      "station_id=76, station_name='Koonya',2021-10-04T11:30:00+00:00\n",
      "station_id=76, station_name='Koonya',2021-10-04T11:45:00+00:00\n",
      "station_id=76, station_name='Koonya',2021-10-04T12:00:00+00:00\n",
      "station_id=76, station_name='Koonya',2021-10-04T12:15:00+00:00\n",
      "station_id=76, station_name='Koonya',2021-10-04T12:30:00+00:00\n",
      "station_id=76, station_name='Koonya',2021-10-04T12:45:00+00:00\n",
      "station_id=76, station_name='Koonya',2021-10-04T13:00:00+00:00\n",
      "station_id=76, station_name='Koonya',2021-10-04T13:15:00+00:00\n",
      "station_id=76, station_name='Koonya',2021-10-04T13:30:00+00:00\n",
      "station_id=76, station_name='Koonya',2021-10-04T13:45:00+00:00\n",
      "station_id=76, station_name='Koonya',2021-10-04T14:00:00+00:00\n",
      "station_id=76, station_name='Koonya',2021-10-04T14:15:00+00:00\n",
      "station_id=76, station_name='Koonya',2021-10-04T14:30:00+00:00\n",
      "station_id=76, station_name='Koonya',2021-10-04T14:45:00+00:00\n",
      "station_id=76, station_name='Koonya',2021-10-04T15:00:00+00:00\n",
      "station_id=76, station_name='Koonya',2021-10-04T15:15:00+00:00\n",
      "station_id=76, station_name='Koonya',2021-10-04T15:30:00+00:00\n",
      "station_id=76, station_name='Koonya',2021-10-04T15:45:00+00:00\n",
      "station_id=76, station_name='Koonya',2021-10-04T16:00:00+00:00\n",
      "station_id=76, station_name='Koonya',2021-10-04T16:15:00+00:00\n",
      "station_id=76, station_name='Koonya',2021-10-04T16:30:00+00:00\n",
      "station_id=76, station_name='Koonya',2021-10-04T16:45:00+00:00\n",
      "station_id=76, station_name='Koonya',2021-10-04T17:00:00+00:00\n",
      "station_id=76, station_name='Koonya',2021-10-04T17:15:00+00:00\n",
      "station_id=76, station_name='Koonya',2021-10-04T17:30:00+00:00\n",
      "station_id=76, station_name='Koonya',2021-10-04T17:45:00+00:00\n",
      "station_id=76, station_name='Koonya',2021-10-04T18:00:00+00:00\n",
      "station_id=76, station_name='Koonya',2021-10-04T18:15:00+00:00\n",
      "station_id=76, station_name='Koonya',2021-10-04T18:30:00+00:00\n",
      "station_id=76, station_name='Koonya',2021-10-04T18:45:00+00:00\n",
      "station_id=76, station_name='Koonya',2021-10-04T19:00:00+00:00\n",
      "station_id=76, station_name='Koonya',2021-10-04T19:15:00+00:00\n",
      "station_id=76, station_name='Koonya',2021-10-04T19:30:00+00:00\n",
      "station_id=76, station_name='Koonya',2021-10-04T19:45:00+00:00\n",
      "station_id=76, station_name='Koonya',2021-10-04T20:00:00+00:00\n",
      "station_id=76, station_name='Koonya',2021-10-04T20:15:00+00:00\n",
      "station_id=76, station_name='Koonya',2021-10-04T20:30:00+00:00\n",
      "station_id=76, station_name='Koonya',2021-10-04T20:45:00+00:00\n",
      "station_id=76, station_name='Koonya',2021-10-04T21:00:00+00:00\n",
      "station_id=76, station_name='Koonya',2021-10-04T21:15:00+00:00\n",
      "station_id=76, station_name='Koonya',2021-10-04T21:30:00+00:00\n",
      "station_id=76, station_name='Koonya',2021-10-04T21:45:00+00:00\n",
      "station_id=76, station_name='Koonya',2021-10-04T22:00:00+00:00\n",
      "station_id=76, station_name='Koonya',2021-10-04T22:15:00+00:00\n",
      "station_id=76, station_name='Koonya',2021-10-04T22:30:00+00:00\n",
      "station_id=76, station_name='Koonya',2021-10-04T22:45:00+00:00\n",
      "station_id=76, station_name='Koonya',2021-10-04T23:00:00+00:00\n",
      "station_id=76, station_name='Koonya',2021-10-04T23:15:00+00:00\n",
      "station_id=76, station_name='Koonya',2021-10-04T23:30:00+00:00\n",
      "station_id=76, station_name='Koonya',2021-10-04T23:45:00+00:00\n",
      "station_id=76, station_name='Koonya',2021-10-05T00:00:00+00:00\n",
      "station_id=76, station_name='Koonya',2021-10-05T00:15:00+00:00\n",
      "station_id=76, station_name='Koonya',2021-10-05T00:30:00+00:00\n",
      "station_id=76, station_name='Koonya',2021-10-05T00:45:00+00:00\n",
      "station_id=76, station_name='Koonya',2021-10-05T01:00:00+00:00\n"
     ]
    }
   ],
   "source": [
    "# loop over the filenames and read in the data \n",
    "client = MongoClient()\n",
    "db = client[config[\"DB_NAME\"]]\n",
    "radar_fs = fs.GridFS(db)\n",
    "for filename in file_list:\n",
    "    file = radar_fs.find_one({\"filename\":filename})\n",
    "    data = file.read()\n",
    "    \n",
    "    ncFile = Dataset(filename,mode=\"r\",memory=data)\n",
    "    station_id = int(ncFile.__getattr__(\"station_id\"))\n",
    "    station_name = str(ncFile.__getattr__(\"station_name\"))\n",
    "    vtime = int(ncFile['valid_time'][0].item())\n",
    "    valid_time = datetime.datetime.fromtimestamp(vtime,tz=datetime.timezone.utc)\n",
    "    print(f\"{station_id=}, {station_name=},{valid_time.isoformat()}\")\n",
    "    ncFile.close()\n",
    "\n",
    "client.close()\n"
   ]
  }
 ],
 "metadata": {
  "interpreter": {
   "hash": "cf6d8653a892b4c061ef89f2c098cc244a9531fbe7f40956bc5c2386f10950c8"
  },
  "kernelspec": {
   "display_name": "Python 3.9.6 64-bit ('rain_base': conda)",
   "name": "python3"
  },
  "language_info": {
   "codemirror_mode": {
    "name": "ipython",
    "version": 3
   },
   "file_extension": ".py",
   "mimetype": "text/x-python",
   "name": "python",
   "nbconvert_exporter": "python",
   "pygments_lexer": "ipython3",
   "version": "3.10.0"
  },
  "orig_nbformat": 4
 },
 "nbformat": 4,
 "nbformat_minor": 2
}
