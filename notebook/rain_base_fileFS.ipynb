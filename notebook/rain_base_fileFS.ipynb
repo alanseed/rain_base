{
 "cells": [
  {
   "cell_type": "markdown",
   "metadata": {},
   "source": [
    "# Test reading a set of rainfields netCDF rain_rate files from the mongo database"
   ]
  },
  {
   "cell_type": "code",
   "execution_count": 1,
   "metadata": {},
   "outputs": [],
   "source": [
    "import datetime\n",
    "import os\n",
    "import gridfs as fs\n",
    "from pymongo import MongoClient\n",
    "from netCDF4 import Dataset\n",
    "from package import rain_base_fs\n"
   ]
  },
  {
   "cell_type": "code",
   "execution_count": 2,
   "metadata": {},
   "outputs": [],
   "source": [
    "def get_files(**kwargs):\n",
    "    \"\"\" Return a list of files that match the search criteria or None on error\n",
    "    \"\"\"\n",
    "    config = kwargs.get(\"config\", None)\n",
    "\n",
    "    # get configuration paramaters\n",
    "    start_time = datetime.datetime.fromisoformat(\n",
    "        config[\"START_DATE\"]).replace(tzinfo=datetime.timezone.utc)\n",
    "    end_time = datetime.datetime.fromisoformat(\n",
    "        config[\"END_DATE\"]).replace(tzinfo=datetime.timezone.utc)\n",
    "    station_id = int(config[\"STN_ID\"])\n",
    "    variable = config[\"VARIABLE\"]\n",
    "\n",
    "    query = {}\n",
    "    query['metadata.valid_time'] = {'$gte': int(datetime.datetime.timestamp(\n",
    "        start_time)), '$lte': int(datetime.datetime.timestamp(end_time))}\n",
    "    query['metadata.station_id'] = station_id\n",
    "    query['metadata.variable'] = variable\n",
    "\n",
    "    client = MongoClient()\n",
    "    db = client[config[\"DB_NAME\"]]\n",
    "    cursor = db.fs.files.find(query).sort([(\"metadata.valid_time\",1)]) \n",
    "\n",
    "    file_list = []\n",
    "    if cursor is None:\n",
    "        print(\"None found\") \n",
    "        return None\n",
    "    else:\n",
    "        for doc in cursor:\n",
    "            file_list.append(doc[\"filename\"])\n",
    "    \n",
    "    client.close()\n",
    "    return file_list\n"
   ]
  },
  {
   "cell_type": "code",
   "execution_count": 3,
   "metadata": {},
   "outputs": [],
   "source": [
    "config = {\n",
    "    \"START_DATE\": \"2021-01-28T00:00:00\",\n",
    "    \"END_DATE\": \"2021-01-28T01:00:00\",\n",
    "    \"PRODUCT\": \"prcp-crate.nc\",\n",
    "    \"STN_ID\": \"310\",\n",
    "    \"DB_NAME\": \"radar\",\n",
    "    \"VARIABLE\": \"rain_rate\"\n",
    "}\n"
   ]
  },
  {
   "cell_type": "code",
   "execution_count": 4,
   "metadata": {},
   "outputs": [
    {
     "name": "stdout",
     "output_type": "stream",
     "text": [
      "['310_20210128_000000.prcp-crate.nc', '310_20210128_000500.prcp-crate.nc', '310_20210128_001000.prcp-crate.nc', '310_20210128_001500.prcp-crate.nc', '310_20210128_002000.prcp-crate.nc', '310_20210128_002500.prcp-crate.nc', '310_20210128_003000.prcp-crate.nc', '310_20210128_003500.prcp-crate.nc', '310_20210128_004000.prcp-crate.nc', '310_20210128_004500.prcp-crate.nc', '310_20210128_005000.prcp-crate.nc', '310_20210128_005500.prcp-crate.nc', '310_20210128_010000.prcp-crate.nc']\n"
     ]
    }
   ],
   "source": [
    "# get the list of file names that match this search \n",
    "file_list = get_files(config=config)\n",
    "print(file_list)"
   ]
  },
  {
   "cell_type": "code",
   "execution_count": 7,
   "metadata": {},
   "outputs": [
    {
     "name": "stdout",
     "output_type": "stream",
     "text": [
      "station_id=310, station_name='Ausm310',2021-01-28T00:00:00+00:00\n",
      "station_id=310, station_name='Ausm310',2021-01-28T00:05:00+00:00\n",
      "station_id=310, station_name='Ausm310',2021-01-28T00:10:00+00:00\n",
      "station_id=310, station_name='Ausm310',2021-01-28T00:15:00+00:00\n",
      "station_id=310, station_name='Ausm310',2021-01-28T00:20:00+00:00\n",
      "station_id=310, station_name='Ausm310',2021-01-28T00:25:00+00:00\n",
      "station_id=310, station_name='Ausm310',2021-01-28T00:30:00+00:00\n",
      "station_id=310, station_name='Ausm310',2021-01-28T00:35:00+00:00\n",
      "station_id=310, station_name='Ausm310',2021-01-28T00:40:00+00:00\n",
      "station_id=310, station_name='Ausm310',2021-01-28T00:45:00+00:00\n",
      "station_id=310, station_name='Ausm310',2021-01-28T00:50:00+00:00\n",
      "station_id=310, station_name='Ausm310',2021-01-28T00:55:00+00:00\n",
      "station_id=310, station_name='Ausm310',2021-01-28T01:00:00+00:00\n"
     ]
    }
   ],
   "source": [
    "# loop over the filenames and read in the data \n",
    "client = MongoClient()\n",
    "db = client[config[\"DB_NAME\"]]\n",
    "radar_fs = fs.GridFS(db)\n",
    "for filename in file_list:\n",
    "    file = radar_fs.find_one({\"filename\":filename})\n",
    "    data = file.read()\n",
    "    \n",
    "    ncFile = Dataset(filename,mode=\"r\",memory=data)\n",
    "    station_id = int(ncFile.__getattr__(\"station_id\"))\n",
    "    station_name = str(ncFile.__getattr__(\"station_name\"))\n",
    "    vtime = int(ncFile['valid_time'][0].item())\n",
    "    valid_time = datetime.datetime.fromtimestamp(vtime,tz=datetime.timezone.utc)\n",
    "    print(f\"{station_id=}, {station_name=},{valid_time.isoformat()}\")\n",
    "    ncFile.close()\n",
    "\n",
    "client.close()\n"
   ]
  }
 ],
 "metadata": {
  "interpreter": {
   "hash": "cf6d8653a892b4c061ef89f2c098cc244a9531fbe7f40956bc5c2386f10950c8"
  },
  "kernelspec": {
   "display_name": "Python 3.9.6 64-bit ('rain_base': conda)",
   "name": "python3"
  },
  "language_info": {
   "codemirror_mode": {
    "name": "ipython",
    "version": 3
   },
   "file_extension": ".py",
   "mimetype": "text/x-python",
   "name": "python",
   "nbconvert_exporter": "python",
   "pygments_lexer": "ipython3",
   "version": "3.10.0"
  },
  "orig_nbformat": 4
 },
 "nbformat": 4,
 "nbformat_minor": 2
}
