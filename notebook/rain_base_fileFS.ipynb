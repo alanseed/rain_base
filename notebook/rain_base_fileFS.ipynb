{
 "cells": [
  {
   "cell_type": "markdown",
   "metadata": {},
   "source": [
    "# Test reading a set of rainfields netCDF rain_rate files from the mongo database"
   ]
  },
  {
   "cell_type": "code",
   "execution_count": 28,
   "metadata": {},
   "outputs": [],
   "source": [
    "import datetime\n",
    "import os\n",
    "import gridfs as fs\n",
    "from pymongo import MongoClient\n",
    "from netCDF4 import Dataset\n",
    "from package import rain_base_fs"
   ]
  },
  {
   "cell_type": "code",
   "execution_count": 29,
   "metadata": {},
   "outputs": [],
   "source": [
    "config = { \n",
    "    \"START_DATE\" : \"2021-01-28T00:00:00\",\n",
    "    \"END_DATE\" : \"2021-01-28T01:00:00\",\n",
    "    \"TIME_STEP\": \"5\", \n",
    "    \"BASE_DIR\": \"/home/awseed/data/RF3/prcp-crate\",\n",
    "    \"PRODUCT\": \"prcp-crate.nc\",\n",
    "    \"STN_ID\": \"310\",\n",
    "    \"DB_NAME\": \"radar\",\n",
    "    \"DROP_DATABASE\":\"1\",\n",
    "    \"VARIABLE\":\"rain_rate\"\n",
    "}"
   ]
  },
  {
   "cell_type": "code",
   "execution_count": 30,
   "metadata": {},
   "outputs": [],
   "source": [
    "client = MongoClient()\n",
    "db = client[config[\"DB_NAME\"]]\n",
    "radar_fs = fs.GridFS(db)\n",
    "file_list = radar_fs.list()\n",
    "file_name = file_list[0] "
   ]
  },
  {
   "cell_type": "code",
   "execution_count": 85,
   "metadata": {},
   "outputs": [
    {
     "name": "stdout",
     "output_type": "stream",
     "text": [
      "filter={'metadata.station_id': 310, 'metadata.variable': 'rain_rate', 'metadata.valid_time': 1611792000}\n",
      "{'station_id': 310, 'station_name': 'Ausm310', 'valid_time': 1611792000, 'variable': 'rain_rate', 'mean': 0.007201567806456096, 'std': 0.05467740277750921, 'war': 1.9590372330712125}\n",
      "310_20210128_000000.prcp-crate.nc\n"
     ]
    }
   ],
   "source": [
    "# loop over the dates and read in the data\n",
    "valid_time = datetime.datetime.fromisoformat(config[\"START_DATE\"]).replace(tzinfo= datetime.timezone.utc)\n",
    "end_time = datetime.datetime.fromisoformat(config[\"END_DATE\"]).replace(tzinfo = datetime.timezone.utc)\n",
    "time_step = datetime.timedelta(minutes=int(config[\"TIME_STEP\"]))\n",
    "station_id = int(config[\"STN_ID\"])\n",
    "variable = config[\"VARIABLE\"] \n",
    "filter = {\n",
    "    \"metadata.station_id\":station_id,\n",
    "    \"metadata.variable\":variable\n",
    "}\n",
    "ts = int(datetime.datetime.timestamp(valid_time))\n",
    "filter[\"metadata.valid_time\"] = ts\n",
    "print(f\"{filter=}\")\n",
    "\n",
    "col = db.fs.files.find_one(filter) \n",
    "if col is None:\n",
    "    print(\"None found\")\n",
    "else:    \n",
    "    print(col[\"metadata\"])\n",
    "    print(col[\"filename\"])\n",
    "\n",
    "# while valid_time <= end_time:\n",
    "#     print(int(datetime.datetime.timestamp(valid_time)))\n",
    "#     ts = int(datetime.datetime.timestamp(valid_time))\n",
    "#     filter[\"valid_time\"] = ts\n",
    "#     cursor = radar_fs.find(filter)\n",
    "#     for grid_out in cursor:\n",
    "#         print(grid_out)\n",
    "\n",
    "    # for grid_out in radar_fs.find(filter):\n",
    "    #     data = grid_out.read()\n",
    "    #     ncFile = Dataset(\"fname.nc\", mode=\"r\", memory=data) \n",
    "    #     station_id = int(ncFile.__getattr__(\"station_id\"))\n",
    "    #     station_name = str(ncFile.__getattr__(\"station_name\"))\n",
    "    #     vtime = int(ncFile['valid_time'][0].item())\n",
    "    #     print(f\"{station_id=}, {station_name=},{vtime=}\")\n",
    "    #     ncFile.close()\n",
    "    # valid_time = valid_time + time_step\n",
    "\n"
   ]
  },
  {
   "cell_type": "code",
   "execution_count": null,
   "metadata": {},
   "outputs": [],
   "source": [
    "client.close()"
   ]
  }
 ],
 "metadata": {
  "interpreter": {
   "hash": "cf6d8653a892b4c061ef89f2c098cc244a9531fbe7f40956bc5c2386f10950c8"
  },
  "kernelspec": {
   "display_name": "Python 3.9.6 64-bit ('rain_base': conda)",
   "name": "python3"
  },
  "language_info": {
   "codemirror_mode": {
    "name": "ipython",
    "version": 3
   },
   "file_extension": ".py",
   "mimetype": "text/x-python",
   "name": "python",
   "nbconvert_exporter": "python",
   "pygments_lexer": "ipython3",
   "version": "3.10.0"
  },
  "orig_nbformat": 4
 },
 "nbformat": 4,
 "nbformat_minor": 2
}
