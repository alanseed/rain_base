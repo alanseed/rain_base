{
 "cells": [
  {
   "cell_type": "code",
   "execution_count": null,
   "source": [],
   "outputs": [],
   "metadata": {}
  },
  {
   "cell_type": "markdown",
   "source": [
    "# Test reading a set of rainfields netCDF rain_rate files and writing them to the mongo database"
   ],
   "metadata": {}
  },
  {
   "cell_type": "code",
   "execution_count": 1,
   "source": [
    "import rain_base_fs\n",
    "import datetime\n",
    "import os"
   ],
   "outputs": [],
   "metadata": {}
  },
  {
   "cell_type": "code",
   "execution_count": 4,
   "source": [
    "# traverse the file directories and write the data out to the database \n",
    "start_date = datetime.datetime(2021,1,28) \n",
    "end_date = datetime.datetime(2021,1,30)\n",
    "time_step = datetime.timedelta(minutes=5)\n",
    "base_dir = \"/home/awseed/data/RF3/prcp-crate\"\n",
    "product = \"prcp-crate.nc\"\n",
    "stn_id = 310 \n",
    "start_time = datetime.datetime.now() \n",
    "\n",
    "file_number = 0 \n",
    "vtime = start_date\n",
    "while vtime < end_date:\n",
    "    y = vtime.strftime(\"%Y\") \n",
    "    ymd = vtime.strftime(\"%Y%m%d\")\n",
    "    hms = vtime.strftime(\"%H%M%S\")\n",
    "    file_path= os.path.join(base_dir,y)\n",
    "    file_path = os.path.join(file_path,ymd)\n",
    "    file_name = f\"{stn_id}_{ymd}_{hms}.{product}\"\n",
    "    file_path = os.path.join(file_path, file_name)\n",
    "    file_id = rain_base_fs.write_to_rain_basefs(file_path)\n",
    "    vtime = vtime + time_step  \n",
    "    file_number += 1\n",
    "\n",
    "end_time = datetime.datetime.now() \n",
    "dt = end_time - start_time \n",
    "print(f\"Processed {file_number} files in {dt}\")"
   ],
   "outputs": [
    {
     "output_type": "stream",
     "name": "stdout",
     "text": [
      "Error: /home/awseed/data/RF3/prcp-crate/2021/20210129/310_20210129_165000.prcp-crate.nc not found\n",
      "Processed {file_number} files in {dt}\n"
     ]
    }
   ],
   "metadata": {}
  }
 ],
 "metadata": {
  "orig_nbformat": 4,
  "language_info": {
   "name": "python",
   "version": "3.9.6",
   "mimetype": "text/x-python",
   "codemirror_mode": {
    "name": "ipython",
    "version": 3
   },
   "pygments_lexer": "ipython3",
   "nbconvert_exporter": "python",
   "file_extension": ".py"
  },
  "kernelspec": {
   "name": "python3",
   "display_name": "Python 3.9.6 64-bit ('rain_base': conda)"
  },
  "interpreter": {
   "hash": "cf6d8653a892b4c061ef89f2c098cc244a9531fbe7f40956bc5c2386f10950c8"
  }
 },
 "nbformat": 4,
 "nbformat_minor": 2
}