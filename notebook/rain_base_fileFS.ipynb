{
 "cells": [
  {
   "cell_type": "code",
   "execution_count": null,
   "metadata": {},
   "outputs": [],
   "source": []
  },
  {
   "cell_type": "markdown",
   "metadata": {},
   "source": [
    "# Test reading a set of rainfields netCDF rain_rate files and writing them to the mongo database"
   ]
  },
  {
   "cell_type": "code",
   "execution_count": 9,
   "metadata": {},
   "outputs": [],
   "source": [
    "import rain_base_fs\n",
    "import datetime\n",
    "import os"
   ]
  },
  {
   "cell_type": "code",
   "execution_count": 10,
   "metadata": {},
   "outputs": [
    {
     "name": "stdout",
     "output_type": "stream",
     "text": [
      "reading /home/awseed/data/RF3/prcp-crate/2021/20210128/310_20210128_000000.prcp-crate.nc\n",
      "reading /home/awseed/data/RF3/prcp-crate/2021/20210128/310_20210128_000500.prcp-crate.nc\n",
      "reading /home/awseed/data/RF3/prcp-crate/2021/20210128/310_20210128_001000.prcp-crate.nc\n",
      "reading /home/awseed/data/RF3/prcp-crate/2021/20210128/310_20210128_001500.prcp-crate.nc\n",
      "reading /home/awseed/data/RF3/prcp-crate/2021/20210128/310_20210128_002000.prcp-crate.nc\n",
      "reading /home/awseed/data/RF3/prcp-crate/2021/20210128/310_20210128_002500.prcp-crate.nc\n",
      "reading /home/awseed/data/RF3/prcp-crate/2021/20210128/310_20210128_003000.prcp-crate.nc\n",
      "reading /home/awseed/data/RF3/prcp-crate/2021/20210128/310_20210128_003500.prcp-crate.nc\n",
      "reading /home/awseed/data/RF3/prcp-crate/2021/20210128/310_20210128_004000.prcp-crate.nc\n",
      "reading /home/awseed/data/RF3/prcp-crate/2021/20210128/310_20210128_004500.prcp-crate.nc\n",
      "reading /home/awseed/data/RF3/prcp-crate/2021/20210128/310_20210128_005000.prcp-crate.nc\n",
      "reading /home/awseed/data/RF3/prcp-crate/2021/20210128/310_20210128_005500.prcp-crate.nc\n",
      "reading /home/awseed/data/RF3/prcp-crate/2021/20210128/310_20210128_010000.prcp-crate.nc\n",
      "reading /home/awseed/data/RF3/prcp-crate/2021/20210128/310_20210128_010500.prcp-crate.nc\n",
      "reading /home/awseed/data/RF3/prcp-crate/2021/20210128/310_20210128_011000.prcp-crate.nc\n",
      "reading /home/awseed/data/RF3/prcp-crate/2021/20210128/310_20210128_011500.prcp-crate.nc\n",
      "reading /home/awseed/data/RF3/prcp-crate/2021/20210128/310_20210128_012000.prcp-crate.nc\n",
      "reading /home/awseed/data/RF3/prcp-crate/2021/20210128/310_20210128_012500.prcp-crate.nc\n",
      "reading /home/awseed/data/RF3/prcp-crate/2021/20210128/310_20210128_013000.prcp-crate.nc\n",
      "reading /home/awseed/data/RF3/prcp-crate/2021/20210128/310_20210128_013500.prcp-crate.nc\n",
      "reading /home/awseed/data/RF3/prcp-crate/2021/20210128/310_20210128_014000.prcp-crate.nc\n",
      "reading /home/awseed/data/RF3/prcp-crate/2021/20210128/310_20210128_014500.prcp-crate.nc\n",
      "reading /home/awseed/data/RF3/prcp-crate/2021/20210128/310_20210128_015000.prcp-crate.nc\n",
      "reading /home/awseed/data/RF3/prcp-crate/2021/20210128/310_20210128_015500.prcp-crate.nc\n",
      "reading /home/awseed/data/RF3/prcp-crate/2021/20210128/310_20210128_020000.prcp-crate.nc\n",
      "reading /home/awseed/data/RF3/prcp-crate/2021/20210128/310_20210128_020500.prcp-crate.nc\n",
      "reading /home/awseed/data/RF3/prcp-crate/2021/20210128/310_20210128_021000.prcp-crate.nc\n",
      "reading /home/awseed/data/RF3/prcp-crate/2021/20210128/310_20210128_021500.prcp-crate.nc\n",
      "reading /home/awseed/data/RF3/prcp-crate/2021/20210128/310_20210128_022000.prcp-crate.nc\n",
      "reading /home/awseed/data/RF3/prcp-crate/2021/20210128/310_20210128_022500.prcp-crate.nc\n",
      "reading /home/awseed/data/RF3/prcp-crate/2021/20210128/310_20210128_023000.prcp-crate.nc\n",
      "reading /home/awseed/data/RF3/prcp-crate/2021/20210128/310_20210128_023500.prcp-crate.nc\n",
      "reading /home/awseed/data/RF3/prcp-crate/2021/20210128/310_20210128_024000.prcp-crate.nc\n",
      "reading /home/awseed/data/RF3/prcp-crate/2021/20210128/310_20210128_024500.prcp-crate.nc\n",
      "reading /home/awseed/data/RF3/prcp-crate/2021/20210128/310_20210128_025000.prcp-crate.nc\n",
      "reading /home/awseed/data/RF3/prcp-crate/2021/20210128/310_20210128_025500.prcp-crate.nc\n",
      "reading /home/awseed/data/RF3/prcp-crate/2021/20210128/310_20210128_030000.prcp-crate.nc\n",
      "reading /home/awseed/data/RF3/prcp-crate/2021/20210128/310_20210128_030500.prcp-crate.nc\n",
      "reading /home/awseed/data/RF3/prcp-crate/2021/20210128/310_20210128_031000.prcp-crate.nc\n",
      "reading /home/awseed/data/RF3/prcp-crate/2021/20210128/310_20210128_031500.prcp-crate.nc\n",
      "reading /home/awseed/data/RF3/prcp-crate/2021/20210128/310_20210128_032000.prcp-crate.nc\n",
      "reading /home/awseed/data/RF3/prcp-crate/2021/20210128/310_20210128_032500.prcp-crate.nc\n",
      "reading /home/awseed/data/RF3/prcp-crate/2021/20210128/310_20210128_033000.prcp-crate.nc\n",
      "reading /home/awseed/data/RF3/prcp-crate/2021/20210128/310_20210128_033500.prcp-crate.nc\n",
      "reading /home/awseed/data/RF3/prcp-crate/2021/20210128/310_20210128_034000.prcp-crate.nc\n",
      "reading /home/awseed/data/RF3/prcp-crate/2021/20210128/310_20210128_034500.prcp-crate.nc\n",
      "reading /home/awseed/data/RF3/prcp-crate/2021/20210128/310_20210128_035000.prcp-crate.nc\n",
      "reading /home/awseed/data/RF3/prcp-crate/2021/20210128/310_20210128_035500.prcp-crate.nc\n",
      "reading /home/awseed/data/RF3/prcp-crate/2021/20210128/310_20210128_040000.prcp-crate.nc\n",
      "reading /home/awseed/data/RF3/prcp-crate/2021/20210128/310_20210128_040500.prcp-crate.nc\n",
      "reading /home/awseed/data/RF3/prcp-crate/2021/20210128/310_20210128_041000.prcp-crate.nc\n",
      "reading /home/awseed/data/RF3/prcp-crate/2021/20210128/310_20210128_041500.prcp-crate.nc\n",
      "reading /home/awseed/data/RF3/prcp-crate/2021/20210128/310_20210128_042000.prcp-crate.nc\n",
      "reading /home/awseed/data/RF3/prcp-crate/2021/20210128/310_20210128_042500.prcp-crate.nc\n",
      "reading /home/awseed/data/RF3/prcp-crate/2021/20210128/310_20210128_043000.prcp-crate.nc\n",
      "reading /home/awseed/data/RF3/prcp-crate/2021/20210128/310_20210128_043500.prcp-crate.nc\n",
      "reading /home/awseed/data/RF3/prcp-crate/2021/20210128/310_20210128_044000.prcp-crate.nc\n",
      "reading /home/awseed/data/RF3/prcp-crate/2021/20210128/310_20210128_044500.prcp-crate.nc\n",
      "reading /home/awseed/data/RF3/prcp-crate/2021/20210128/310_20210128_045000.prcp-crate.nc\n",
      "reading /home/awseed/data/RF3/prcp-crate/2021/20210128/310_20210128_045500.prcp-crate.nc\n",
      "reading /home/awseed/data/RF3/prcp-crate/2021/20210128/310_20210128_050000.prcp-crate.nc\n",
      "reading /home/awseed/data/RF3/prcp-crate/2021/20210128/310_20210128_050500.prcp-crate.nc\n",
      "reading /home/awseed/data/RF3/prcp-crate/2021/20210128/310_20210128_051000.prcp-crate.nc\n",
      "reading /home/awseed/data/RF3/prcp-crate/2021/20210128/310_20210128_051500.prcp-crate.nc\n",
      "reading /home/awseed/data/RF3/prcp-crate/2021/20210128/310_20210128_052000.prcp-crate.nc\n",
      "reading /home/awseed/data/RF3/prcp-crate/2021/20210128/310_20210128_052500.prcp-crate.nc\n",
      "reading /home/awseed/data/RF3/prcp-crate/2021/20210128/310_20210128_053000.prcp-crate.nc\n",
      "reading /home/awseed/data/RF3/prcp-crate/2021/20210128/310_20210128_053500.prcp-crate.nc\n",
      "reading /home/awseed/data/RF3/prcp-crate/2021/20210128/310_20210128_054000.prcp-crate.nc\n",
      "reading /home/awseed/data/RF3/prcp-crate/2021/20210128/310_20210128_054500.prcp-crate.nc\n",
      "reading /home/awseed/data/RF3/prcp-crate/2021/20210128/310_20210128_055000.prcp-crate.nc\n",
      "reading /home/awseed/data/RF3/prcp-crate/2021/20210128/310_20210128_055500.prcp-crate.nc\n",
      "reading /home/awseed/data/RF3/prcp-crate/2021/20210128/310_20210128_060000.prcp-crate.nc\n",
      "reading /home/awseed/data/RF3/prcp-crate/2021/20210128/310_20210128_060500.prcp-crate.nc\n",
      "reading /home/awseed/data/RF3/prcp-crate/2021/20210128/310_20210128_061000.prcp-crate.nc\n",
      "reading /home/awseed/data/RF3/prcp-crate/2021/20210128/310_20210128_061500.prcp-crate.nc\n",
      "reading /home/awseed/data/RF3/prcp-crate/2021/20210128/310_20210128_062000.prcp-crate.nc\n"
     ]
    },
    {
     "ename": "KeyboardInterrupt",
     "evalue": "",
     "output_type": "error",
     "traceback": [
      "\u001b[0;31m---------------------------------------------------------------------------\u001b[0m",
      "\u001b[0;31mKeyboardInterrupt\u001b[0m                         Traceback (most recent call last)",
      "\u001b[0;32m/tmp/ipykernel_20056/3327260782.py\u001b[0m in \u001b[0;36m<module>\u001b[0;34m\u001b[0m\n\u001b[1;32m     19\u001b[0m     \u001b[0mfile_path\u001b[0m \u001b[0;34m=\u001b[0m \u001b[0mos\u001b[0m\u001b[0;34m.\u001b[0m\u001b[0mpath\u001b[0m\u001b[0;34m.\u001b[0m\u001b[0mjoin\u001b[0m\u001b[0;34m(\u001b[0m\u001b[0mfile_path\u001b[0m\u001b[0;34m,\u001b[0m \u001b[0mfile_name\u001b[0m\u001b[0;34m)\u001b[0m\u001b[0;34m\u001b[0m\u001b[0;34m\u001b[0m\u001b[0m\n\u001b[1;32m     20\u001b[0m     \u001b[0mprint\u001b[0m\u001b[0;34m(\u001b[0m\u001b[0;34mf\"reading {file_path}\"\u001b[0m\u001b[0;34m)\u001b[0m\u001b[0;34m\u001b[0m\u001b[0;34m\u001b[0m\u001b[0m\n\u001b[0;32m---> 21\u001b[0;31m     \u001b[0mfile_id\u001b[0m \u001b[0;34m=\u001b[0m \u001b[0mrain_base_fs\u001b[0m\u001b[0;34m.\u001b[0m\u001b[0mwrite_to_rain_basefs\u001b[0m\u001b[0;34m(\u001b[0m\u001b[0mfile_path\u001b[0m\u001b[0;34m)\u001b[0m\u001b[0;34m\u001b[0m\u001b[0;34m\u001b[0m\u001b[0m\n\u001b[0m\u001b[1;32m     22\u001b[0m     \u001b[0mvtime\u001b[0m \u001b[0;34m=\u001b[0m \u001b[0mvtime\u001b[0m \u001b[0;34m+\u001b[0m \u001b[0mtime_step\u001b[0m\u001b[0;34m\u001b[0m\u001b[0;34m\u001b[0m\u001b[0m\n\u001b[1;32m     23\u001b[0m     \u001b[0mfile_number\u001b[0m \u001b[0;34m+=\u001b[0m \u001b[0;36m1\u001b[0m\u001b[0;34m\u001b[0m\u001b[0;34m\u001b[0m\u001b[0m\n",
      "\u001b[0;32m~/src/rain_base/notebook/rain_base_fs.py\u001b[0m in \u001b[0;36mwrite_to_rain_basefs\u001b[0;34m(rf3_name)\u001b[0m\n\u001b[1;32m     31\u001b[0m         \u001b[0;32mreturn\u001b[0m \u001b[0;36m0\u001b[0m\u001b[0;34m\u001b[0m\u001b[0;34m\u001b[0m\u001b[0m\n\u001b[1;32m     32\u001b[0m \u001b[0;34m\u001b[0m\u001b[0m\n\u001b[0;32m---> 33\u001b[0;31m     \u001b[0;31m# get the metadata\u001b[0m\u001b[0;34m\u001b[0m\u001b[0;34m\u001b[0m\u001b[0m\n\u001b[0m\u001b[1;32m     34\u001b[0m     \u001b[0mfname\u001b[0m \u001b[0;34m=\u001b[0m \u001b[0mos\u001b[0m\u001b[0;34m.\u001b[0m\u001b[0mpath\u001b[0m\u001b[0;34m.\u001b[0m\u001b[0mbasename\u001b[0m\u001b[0;34m(\u001b[0m\u001b[0mrf3_name\u001b[0m\u001b[0;34m)\u001b[0m\u001b[0;34m\u001b[0m\u001b[0;34m\u001b[0m\u001b[0m\n\u001b[1;32m     35\u001b[0m     \u001b[0mmean\u001b[0m\u001b[0;34m,\u001b[0m \u001b[0mstd\u001b[0m\u001b[0;34m,\u001b[0m \u001b[0mwar\u001b[0m \u001b[0;34m=\u001b[0m \u001b[0mget_field_stats\u001b[0m\u001b[0;34m(\u001b[0m\u001b[0mbuf\u001b[0m\u001b[0;34m)\u001b[0m\u001b[0;34m\u001b[0m\u001b[0;34m\u001b[0m\u001b[0m\n",
      "\u001b[0;32m~/src/rain_base/notebook/rain_base_fs.py\u001b[0m in \u001b[0;36mget_field_stats\u001b[0;34m(buf)\u001b[0m\n\u001b[1;32m     12\u001b[0m     \u001b[0mrain\u001b[0m \u001b[0;34m=\u001b[0m \u001b[0mscaled_rain\u001b[0m \u001b[0;34m*\u001b[0m \u001b[0mscale_factor\u001b[0m\u001b[0;34m\u001b[0m\u001b[0;34m\u001b[0m\u001b[0m\n\u001b[1;32m     13\u001b[0m \u001b[0;34m\u001b[0m\u001b[0m\n\u001b[0;32m---> 14\u001b[0;31m     \u001b[0mmean\u001b[0m \u001b[0;34m=\u001b[0m \u001b[0mrain\u001b[0m\u001b[0;34m.\u001b[0m\u001b[0mmean\u001b[0m\u001b[0;34m(\u001b[0m\u001b[0;34m)\u001b[0m\u001b[0;34m\u001b[0m\u001b[0;34m\u001b[0m\u001b[0m\n\u001b[0m\u001b[1;32m     15\u001b[0m     \u001b[0mstd\u001b[0m \u001b[0;34m=\u001b[0m \u001b[0mrain\u001b[0m\u001b[0;34m.\u001b[0m\u001b[0mstd\u001b[0m\u001b[0;34m(\u001b[0m\u001b[0;34m)\u001b[0m\u001b[0;34m\u001b[0m\u001b[0;34m\u001b[0m\u001b[0m\n\u001b[1;32m     16\u001b[0m     \u001b[0mrain_area\u001b[0m \u001b[0;34m=\u001b[0m \u001b[0;34m(\u001b[0m\u001b[0mrain\u001b[0m \u001b[0;34m>\u001b[0m \u001b[0;36m0.1\u001b[0m\u001b[0;34m)\u001b[0m\u001b[0;34m.\u001b[0m\u001b[0msum\u001b[0m\u001b[0;34m(\u001b[0m\u001b[0;34m)\u001b[0m\u001b[0;34m\u001b[0m\u001b[0;34m\u001b[0m\u001b[0m\n",
      "\u001b[0;32m~/anaconda3/envs/rain_base/lib/python3.10/site-packages/numpy/ma/core.py\u001b[0m in \u001b[0;36mmean\u001b[0;34m(self, axis, dtype, out, keepdims)\u001b[0m\n\u001b[1;32m   5244\u001b[0m             \u001b[0mresult\u001b[0m \u001b[0;34m=\u001b[0m \u001b[0msuper\u001b[0m\u001b[0;34m(\u001b[0m\u001b[0;34m)\u001b[0m\u001b[0;34m.\u001b[0m\u001b[0mmean\u001b[0m\u001b[0;34m(\u001b[0m\u001b[0maxis\u001b[0m\u001b[0;34m=\u001b[0m\u001b[0maxis\u001b[0m\u001b[0;34m,\u001b[0m \u001b[0mdtype\u001b[0m\u001b[0;34m=\u001b[0m\u001b[0mdtype\u001b[0m\u001b[0;34m,\u001b[0m \u001b[0;34m**\u001b[0m\u001b[0mkwargs\u001b[0m\u001b[0;34m)\u001b[0m\u001b[0;34m[\u001b[0m\u001b[0;34m(\u001b[0m\u001b[0;34m)\u001b[0m\u001b[0;34m]\u001b[0m\u001b[0;34m\u001b[0m\u001b[0;34m\u001b[0m\u001b[0m\n\u001b[1;32m   5245\u001b[0m         \u001b[0;32melse\u001b[0m\u001b[0;34m:\u001b[0m\u001b[0;34m\u001b[0m\u001b[0;34m\u001b[0m\u001b[0m\n\u001b[0;32m-> 5246\u001b[0;31m             \u001b[0mdsum\u001b[0m \u001b[0;34m=\u001b[0m \u001b[0mself\u001b[0m\u001b[0;34m.\u001b[0m\u001b[0msum\u001b[0m\u001b[0;34m(\u001b[0m\u001b[0maxis\u001b[0m\u001b[0;34m=\u001b[0m\u001b[0maxis\u001b[0m\u001b[0;34m,\u001b[0m \u001b[0mdtype\u001b[0m\u001b[0;34m=\u001b[0m\u001b[0mdtype\u001b[0m\u001b[0;34m,\u001b[0m \u001b[0;34m**\u001b[0m\u001b[0mkwargs\u001b[0m\u001b[0;34m)\u001b[0m\u001b[0;34m\u001b[0m\u001b[0;34m\u001b[0m\u001b[0m\n\u001b[0m\u001b[1;32m   5247\u001b[0m             \u001b[0mcnt\u001b[0m \u001b[0;34m=\u001b[0m \u001b[0mself\u001b[0m\u001b[0;34m.\u001b[0m\u001b[0mcount\u001b[0m\u001b[0;34m(\u001b[0m\u001b[0maxis\u001b[0m\u001b[0;34m=\u001b[0m\u001b[0maxis\u001b[0m\u001b[0;34m,\u001b[0m \u001b[0;34m**\u001b[0m\u001b[0mkwargs\u001b[0m\u001b[0;34m)\u001b[0m\u001b[0;34m\u001b[0m\u001b[0;34m\u001b[0m\u001b[0m\n\u001b[1;32m   5248\u001b[0m             \u001b[0;32mif\u001b[0m \u001b[0mcnt\u001b[0m\u001b[0;34m.\u001b[0m\u001b[0mshape\u001b[0m \u001b[0;34m==\u001b[0m \u001b[0;34m(\u001b[0m\u001b[0;34m)\u001b[0m \u001b[0;32mand\u001b[0m \u001b[0;34m(\u001b[0m\u001b[0mcnt\u001b[0m \u001b[0;34m==\u001b[0m \u001b[0;36m0\u001b[0m\u001b[0;34m)\u001b[0m\u001b[0;34m:\u001b[0m\u001b[0;34m\u001b[0m\u001b[0;34m\u001b[0m\u001b[0m\n",
      "\u001b[0;32m~/anaconda3/envs/rain_base/lib/python3.10/site-packages/numpy/ma/core.py\u001b[0m in \u001b[0;36msum\u001b[0;34m(self, axis, dtype, out, keepdims)\u001b[0m\n\u001b[1;32m   5082\u001b[0m         \u001b[0;31m# No explicit output\u001b[0m\u001b[0;34m\u001b[0m\u001b[0;34m\u001b[0m\u001b[0m\n\u001b[1;32m   5083\u001b[0m         \u001b[0;32mif\u001b[0m \u001b[0mout\u001b[0m \u001b[0;32mis\u001b[0m \u001b[0;32mNone\u001b[0m\u001b[0;34m:\u001b[0m\u001b[0;34m\u001b[0m\u001b[0;34m\u001b[0m\u001b[0m\n\u001b[0;32m-> 5084\u001b[0;31m             \u001b[0mresult\u001b[0m \u001b[0;34m=\u001b[0m \u001b[0mself\u001b[0m\u001b[0;34m.\u001b[0m\u001b[0mfilled\u001b[0m\u001b[0;34m(\u001b[0m\u001b[0;36m0\u001b[0m\u001b[0;34m)\u001b[0m\u001b[0;34m.\u001b[0m\u001b[0msum\u001b[0m\u001b[0;34m(\u001b[0m\u001b[0maxis\u001b[0m\u001b[0;34m,\u001b[0m \u001b[0mdtype\u001b[0m\u001b[0;34m=\u001b[0m\u001b[0mdtype\u001b[0m\u001b[0;34m,\u001b[0m \u001b[0;34m**\u001b[0m\u001b[0mkwargs\u001b[0m\u001b[0;34m)\u001b[0m\u001b[0;34m\u001b[0m\u001b[0;34m\u001b[0m\u001b[0m\n\u001b[0m\u001b[1;32m   5085\u001b[0m             \u001b[0mrndim\u001b[0m \u001b[0;34m=\u001b[0m \u001b[0mgetattr\u001b[0m\u001b[0;34m(\u001b[0m\u001b[0mresult\u001b[0m\u001b[0;34m,\u001b[0m \u001b[0;34m'ndim'\u001b[0m\u001b[0;34m,\u001b[0m \u001b[0;36m0\u001b[0m\u001b[0;34m)\u001b[0m\u001b[0;34m\u001b[0m\u001b[0;34m\u001b[0m\u001b[0m\n\u001b[1;32m   5086\u001b[0m             \u001b[0;32mif\u001b[0m \u001b[0mrndim\u001b[0m\u001b[0;34m:\u001b[0m\u001b[0;34m\u001b[0m\u001b[0;34m\u001b[0m\u001b[0m\n",
      "\u001b[0;32m~/anaconda3/envs/rain_base/lib/python3.10/site-packages/numpy/core/_methods.py\u001b[0m in \u001b[0;36m_sum\u001b[0;34m(a, axis, dtype, out, keepdims, initial, where)\u001b[0m\n\u001b[1;32m     46\u001b[0m def _sum(a, axis=None, dtype=None, out=None, keepdims=False,\n\u001b[1;32m     47\u001b[0m          initial=_NoValue, where=True):\n\u001b[0;32m---> 48\u001b[0;31m     \u001b[0;32mreturn\u001b[0m \u001b[0mumr_sum\u001b[0m\u001b[0;34m(\u001b[0m\u001b[0ma\u001b[0m\u001b[0;34m,\u001b[0m \u001b[0maxis\u001b[0m\u001b[0;34m,\u001b[0m \u001b[0mdtype\u001b[0m\u001b[0;34m,\u001b[0m \u001b[0mout\u001b[0m\u001b[0;34m,\u001b[0m \u001b[0mkeepdims\u001b[0m\u001b[0;34m,\u001b[0m \u001b[0minitial\u001b[0m\u001b[0;34m,\u001b[0m \u001b[0mwhere\u001b[0m\u001b[0;34m)\u001b[0m\u001b[0;34m\u001b[0m\u001b[0;34m\u001b[0m\u001b[0m\n\u001b[0m\u001b[1;32m     49\u001b[0m \u001b[0;34m\u001b[0m\u001b[0m\n\u001b[1;32m     50\u001b[0m def _prod(a, axis=None, dtype=None, out=None, keepdims=False,\n",
      "\u001b[0;31mKeyboardInterrupt\u001b[0m: "
     ]
    }
   ],
   "source": [
    "# traverse the file directories and write the data out to the database \n",
    "start_date = datetime.datetime(2021,1,28) \n",
    "end_date = datetime.datetime(2021,1,29)\n",
    "time_step = datetime.timedelta(minutes=5)\n",
    "base_dir = \"/home/awseed/data/RF3/prcp-crate\"\n",
    "product = \"prcp-crate.nc\"\n",
    "stn_id = 310 \n",
    "start_time = datetime.datetime.now() \n",
    "\n",
    "file_number = 0 \n",
    "vtime = start_date\n",
    "while vtime < end_date:\n",
    "    y = vtime.strftime(\"%Y\") \n",
    "    ymd = vtime.strftime(\"%Y%m%d\")\n",
    "    hms = vtime.strftime(\"%H%M%S\")\n",
    "    file_path= os.path.join(base_dir,y)\n",
    "    file_path = os.path.join(file_path,ymd)\n",
    "    file_name = f\"{stn_id}_{ymd}_{hms}.{product}\"\n",
    "    file_path = os.path.join(file_path, file_name) \n",
    "    file_id = rain_base_fs.write_to_rain_basefs(file_path)\n",
    "    vtime = vtime + time_step  \n",
    "    file_number += 1\n",
    "\n",
    "end_time = datetime.datetime.now() \n",
    "dt = end_time - start_time \n",
    "print(f\"Processed {file_number} files in {dt}\")"
   ]
  }
 ],
 "metadata": {
  "interpreter": {
   "hash": "cf6d8653a892b4c061ef89f2c098cc244a9531fbe7f40956bc5c2386f10950c8"
  },
  "kernelspec": {
   "display_name": "Python 3.9.6 64-bit ('rain_base': conda)",
   "name": "python3"
  },
  "language_info": {
   "codemirror_mode": {
    "name": "ipython",
    "version": 3
   },
   "file_extension": ".py",
   "mimetype": "text/x-python",
   "name": "python",
   "nbconvert_exporter": "python",
   "pygments_lexer": "ipython3",
   "version": "3.10.2"
  },
  "orig_nbformat": 4
 },
 "nbformat": 4,
 "nbformat_minor": 2
}
