{
 "cells": [
  {
   "cell_type": "code",
   "execution_count": 1,
   "source": [
    "import pymongo \n",
    "from pymongo import MongoClient\n",
    "from netCDF4 import Dataset \n",
    "import collections\n",
    "import bson"
   ],
   "outputs": [],
   "metadata": {}
  },
  {
   "cell_type": "code",
   "execution_count": 2,
   "source": [
    "rf3_name=\"/home/awseed/data/RF3/prcp-crate/2021/20210129/310_20210129_003000.prcp-crate.nc\" \n",
    "sat_name=\"/home/awseed/data/SAT/crr-ph/2021/20210129/20210129030000-P1S-ABOM_CRRPH-PRJ_AEA132_2000-HIMAWARI8-AHI.nc\" "
   ],
   "outputs": [],
   "metadata": {}
  },
  {
   "cell_type": "code",
   "execution_count": 3,
   "source": [
    "# open the data base and get the metadata \n",
    "rf3 = Dataset(rf3_name)\n",
    "stn_id = rf3.getncattr(\"station_id\")"
   ],
   "outputs": [],
   "metadata": {}
  },
  {
   "cell_type": "code",
   "execution_count": 4,
   "source": [
    "# get the projection as a dictionary \n",
    "proj_attr = {}\n",
    "\n",
    "proj_attr['grid_mapping_name'] = rf3.variables['proj'].getncattr(\"grid_mapping_name\") \n",
    "standard_parallel = rf3.variables['proj'].getncattr(\"standard_parallel\")\n",
    "proj_attr['standard_parallel'] =  standard_parallel.tolist()\n",
    "proj_attr['longitude_of_central_meridian'] = rf3.variables['proj'].getncattr(\"longitude_of_central_meridian\")\n",
    "proj_attr['latitude_of_projection_origin'] = rf3.variables['proj'].getncattr(\"latitude_of_projection_origin\")\n",
    "proj_attr['false_easting'] = rf3.variables['proj'].getncattr(\"false_easting\") \n",
    "proj_attr['grid_mapping_name'] = rf3.variables['proj'].getncattr(\"grid_mapping_name\") \n",
    "towgs84 = rf3.variables['proj'].getncattr(\"towgs84\")\n",
    "proj_attr['towgs84'] = towgs84.tolist()\n",
    "\n",
    "print(proj_attr)"
   ],
   "outputs": [
    {
     "output_type": "stream",
     "name": "stdout",
     "text": [
      "{'grid_mapping_name': 'albers_conical_equal_area', 'standard_parallel': [-18.0, -36.0], 'longitude_of_central_meridian': 132.0, 'latitude_of_projection_origin': 0.0, 'false_easting': 0.0, 'towgs84': [0.0, 0.0, 0.0, 0.0, 0.0, 0.0, 0.0]}\n"
     ]
    }
   ],
   "metadata": {}
  },
  {
   "cell_type": "code",
   "execution_count": null,
   "source": [
    "# setup the database, and a collection for the rf3 prc_crate data \n",
    "client = MongoClient()\n",
    "rain_base = client[\"rain_base_fs\"]\n",
    "projection_id = f\"stn_id_{stn_id}\"\n",
    "print(projection_id)\n",
    "pjn_collection = pjn_db[projection_id]"
   ],
   "outputs": [],
   "metadata": {}
  }
 ],
 "metadata": {
  "orig_nbformat": 4,
  "language_info": {
   "name": "python",
   "version": "3.9.6",
   "mimetype": "text/x-python",
   "codemirror_mode": {
    "name": "ipython",
    "version": 3
   },
   "pygments_lexer": "ipython3",
   "nbconvert_exporter": "python",
   "file_extension": ".py"
  },
  "kernelspec": {
   "name": "python3",
   "display_name": "Python 3.9.6 64-bit ('rain_base': conda)"
  },
  "interpreter": {
   "hash": "cf6d8653a892b4c061ef89f2c098cc244a9531fbe7f40956bc5c2386f10950c8"
  }
 },
 "nbformat": 4,
 "nbformat_minor": 2
}