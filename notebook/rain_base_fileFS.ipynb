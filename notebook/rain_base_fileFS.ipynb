{
 "cells": [
  {
   "cell_type": "code",
   "execution_count": null,
   "source": [
    "import rain_base_fs\n",
    "import datetime\n",
    "import os"
   ],
   "outputs": [],
   "metadata": {}
  },
  {
   "cell_type": "code",
   "execution_count": null,
   "source": [
    "rf3_name=\"/home/awseed/data/RF3/prcp-crate/2021/20210129/310_20210129_003000.prcp-crate.nc\" \n",
    "sat_name=\"/home/awseed/data/SAT/crr-ph/2021/20210129/20210129030000-P1S-ABOM_CRRPH-PRJ_AEA132_2000-HIMAWARI8-AHI.nc\" "
   ],
   "outputs": [],
   "metadata": {}
  },
  {
   "cell_type": "code",
   "execution_count": null,
   "source": [
    "# file_id = rain_base_fs.write_to_rain_basefs(rf3_name)\n",
    "# print(file_id)"
   ],
   "outputs": [],
   "metadata": {}
  },
  {
   "cell_type": "code",
   "execution_count": null,
   "source": [
    "# traverse the file directories and write the data out to the database \n",
    "start_date = datetime.datetime(2021,1,28) \n",
    "end_date = datetime.datetime(2021,1,30)\n",
    "time_step = datetime.timedelta(minutes=10)\n",
    "base_dir = \"/home/awseed/data/RF3/prcp-crate\"\n",
    "product = \"prcp-crate.nc\"\n",
    "stn_id = 310 \n",
    "\n",
    "vtime = start_date\n",
    "while vtime < end_date:\n",
    "    y = vtime.strftime(\"%Y\") \n",
    "    ymd = vtime.strftime(\"%Y%m%d\")\n",
    "    hms = vtime.strftime(\"%H%M%S\")\n",
    "    file_path= os.path.join(base_dir,y)\n",
    "    file_path = os.path.join(file_path,ymd)\n",
    "    file_name = f\"{stn_id}_{ymd}_{hms}.{product}\"\n",
    "    file_path = os.path.join(file_path, file_name)\n",
    "    file_id = rain_base_fs.write_to_rain_basefs(file_path)\n",
    "    print(file_path) \n",
    "    vtime = vtime + time_step  "
   ],
   "outputs": [],
   "metadata": {}
  }
 ],
 "metadata": {
  "orig_nbformat": 4,
  "language_info": {
   "name": "python",
   "version": "3.9.6",
   "mimetype": "text/x-python",
   "codemirror_mode": {
    "name": "ipython",
    "version": 3
   },
   "pygments_lexer": "ipython3",
   "nbconvert_exporter": "python",
   "file_extension": ".py"
  },
  "kernelspec": {
   "name": "python3",
   "display_name": "Python 3.9.6 64-bit ('rain_base': conda)"
  },
  "interpreter": {
   "hash": "cf6d8653a892b4c061ef89f2c098cc244a9531fbe7f40956bc5c2386f10950c8"
  }
 },
 "nbformat": 4,
 "nbformat_minor": 2
}