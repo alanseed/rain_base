{
 "cells": [
  {
   "cell_type": "code",
   "execution_count": 57,
   "source": [
    "# test the use of runlength encoding for rainfields rain_rate data "
   ],
   "outputs": [],
   "metadata": {}
  },
  {
   "cell_type": "code",
   "execution_count": 58,
   "source": [
    "import pymongo \n",
    "from pymongo import MongoClient\n",
    "from netCDF4 import Dataset \n",
    "import collections\n",
    "import bson"
   ],
   "outputs": [],
   "metadata": {}
  },
  {
   "cell_type": "code",
   "execution_count": 59,
   "source": [
    "rf3_name=\"/home/awseed/data/RF3/prcp-crate/2021/20210129/310_20210129_003000.prcp-crate.nc\" \n",
    "rf3 = Dataset(rf3_name)\n",
    "stn_id = int(rf3.getncattr(\"station_id\"))"
   ],
   "outputs": [],
   "metadata": {}
  },
  {
   "cell_type": "code",
   "execution_count": 60,
   "source": [
    "# first check if the projection already exists in the database \n",
    "client = MongoClient()\n",
    "db = client[\"test\"]\n",
    "collection = db[\"projection\"] \n",
    "\n",
    "# get the number of documents for stn_id \n",
    "count_docs = collection.count_documents(filter={\"stn_id\": stn_id})\n",
    "print(f\"Found {count_docs} documents for this projection\") "
   ],
   "outputs": [
    {
     "output_type": "stream",
     "name": "stdout",
     "text": [
      "Found 6 documents for this projection\n"
     ]
    }
   ],
   "metadata": {}
  },
  {
   "cell_type": "code",
   "execution_count": 62,
   "source": [
    "proj = {}\n",
    "if count_docs == 0 : \n",
    "     \n",
    "    # get the projection from the ncfile and write it to the database \n",
    "    proj_attr = {}\n",
    "    proj_attr['grid_mapping_name'] = rf3.variables['proj'].getncattr(\"grid_mapping_name\") \n",
    "    standard_parallel = rf3.variables['proj'].getncattr(\"standard_parallel\")\n",
    "    proj_attr['standard_parallel'] =  standard_parallel.tolist()\n",
    "    proj_attr['longitude_of_central_meridian'] = rf3.variables['proj'].getncattr(\"longitude_of_central_meridian\")\n",
    "    proj_attr['latitude_of_projection_origin'] = rf3.variables['proj'].getncattr(\"latitude_of_projection_origin\")\n",
    "    proj_attr['false_easting'] = rf3.variables['proj'].getncattr(\"false_easting\") \n",
    "    proj_attr['false_northing'] = rf3.variables['proj'].getncattr(\"false_northing\") \n",
    "    proj_attr['grid_mapping_name'] = rf3.variables['proj'].getncattr(\"grid_mapping_name\") \n",
    "    towgs84 = rf3.variables['proj'].getncattr(\"towgs84\")\n",
    "    proj_attr['towgs84'] = towgs84.tolist()\n",
    "    \n",
    "    x_attr = rf3.variables['x'].__dict__ \n",
    "    x = rf3['x'][:].tolist()\n",
    "    x_attr['x'] = x \n",
    "    \n",
    "    y_attr = rf3.variables['y'].__dict__ \n",
    "    y = rf3['y'][:].tolist()\n",
    "    y_attr['y'] = y \n",
    "    \n",
    "    proj['stn_id'] = int(stn_id)\n",
    "    proj['proj'] = proj_attr \n",
    "    proj['y'] = y_attr\n",
    "    proj['x'] = x_attr\n",
    "\n",
    "    proj_id = collection.insert_one(proj).inserted_id\n",
    "else:\n",
    "    # get the projection from the database \n",
    "    proj = collection.find_one({\"stn_id\": stn_id}) \n",
    "    proj_id = proj['_id']\n"
   ],
   "outputs": [
    {
     "output_type": "stream",
     "name": "stdout",
     "text": [
      "dict_keys(['_id', 'stn_id', 'proj', 'y', 'x'])\n"
     ]
    }
   ],
   "metadata": {}
  },
  {
   "cell_type": "code",
   "execution_count": null,
   "source": [],
   "outputs": [],
   "metadata": {}
  }
 ],
 "metadata": {
  "orig_nbformat": 4,
  "language_info": {
   "name": "python",
   "version": "3.9.6",
   "mimetype": "text/x-python",
   "codemirror_mode": {
    "name": "ipython",
    "version": 3
   },
   "pygments_lexer": "ipython3",
   "nbconvert_exporter": "python",
   "file_extension": ".py"
  },
  "kernelspec": {
   "name": "python3",
   "display_name": "Python 3.9.6 64-bit ('rain_base': conda)"
  },
  "interpreter": {
   "hash": "cf6d8653a892b4c061ef89f2c098cc244a9531fbe7f40956bc5c2386f10950c8"
  }
 },
 "nbformat": 4,
 "nbformat_minor": 2
}