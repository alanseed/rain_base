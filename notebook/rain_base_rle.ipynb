{
 "cells": [
  {
   "cell_type": "code",
   "execution_count": null,
   "source": [
    "# test the use of runlength encoding for rainfields rainfall data \n",
    "# a field is identified using variable, stn_id, and valid_time\n",
    "# each stn_id has only one projection \n",
    "# TO DO change this when working with forecasts where we get many forecasts for a valid time "
   ],
   "outputs": [],
   "metadata": {}
  },
  {
   "cell_type": "code",
   "execution_count": null,
   "source": [
    "from pymongo import MongoClient\n",
    "from netCDF4 import Dataset \n",
    "import datetime\n",
    "import numpy as np \n",
    "import bson\n",
    "from bson.binary import Binary\n",
    "import base64\n",
    "import run_len"
   ],
   "outputs": [],
   "metadata": {}
  },
  {
   "cell_type": "code",
   "execution_count": null,
   "source": [
    "# open the nc file and read in the stn_id and valid time\n",
    "rf3_name = \"/home/awseed/data/RF3/2/20190322/2_20190322_235500.prcp-c5.nc\"\n",
    "#rf3_name=\"/home/awseed/data/RF3/prcp-crate/2021/20210129/310_20210129_003000.prcp-crate.nc\" \n",
    "rf3 = Dataset(rf3_name)\n",
    "stn_id = int(rf3.getncattr(\"station_id\"))\n",
    "time_stamp = int(rf3['valid_time'][:])\n",
    "valid_time = datetime.datetime.utcfromtimestamp(time_stamp) \n",
    "\n",
    "if \"start_time\" in rf3.variables.keys():\n",
    "    time_stamp = int(rf3['start_time'][:])\n",
    "    start_time = datetime.datetime.utcfromtimestamp(time_stamp) \n",
    "    rain_variable = \"precipitation\"\n",
    "else:\n",
    "    start_time = 0 \n",
    "    rain_variable = \"rain_rate\"\n"
   ],
   "outputs": [],
   "metadata": {}
  },
  {
   "cell_type": "code",
   "execution_count": null,
   "source": [
    "# open the database and collections\n",
    "client = MongoClient()\n",
    "db = client[\"test_2\"]\n",
    "db.drop_collection(\"projection\")\n",
    "db.drop_collection(\"valid_time\")\n",
    "db.drop_collection(\"data\")\n",
    "\n",
    "proj_col = db[\"projection\"] \n",
    "vt_col   = db[\"valid_time\"]\n",
    "rr_col   = db[\"data\"]"
   ],
   "outputs": [],
   "metadata": {}
  },
  {
   "cell_type": "code",
   "execution_count": null,
   "source": [
    "# check if we have a copy of this field in the database \n",
    "count_fields = vt_col.count_documents(filter={\"stn_id\": stn_id, \"valid_time\":valid_time}) "
   ],
   "outputs": [],
   "metadata": {}
  },
  {
   "cell_type": "code",
   "execution_count": null,
   "source": [
    "if count_fields == 0:\n",
    "\n",
    "    # read the valid_time attrubutes from the nc file and insert into database \n",
    "    valid_time_attr = rf3.variables['valid_time'].__dict__ \n",
    "    valid_time_attr['stn_id'] = stn_id \n",
    "    valid_time_attr['variable'] = rain_variable\n",
    "    valid_time_attr['valid_time'] = valid_time\n",
    "    valid_time_attr['start_time'] = start_time\n",
    "    vt_id = vt_col.insert_one(valid_time_attr).inserted_id\n",
    "\n",
    "    # get the projection details\n",
    "    proj = {}\n",
    "    count_docs = proj_col.count_documents(filter={\"stn_id\": stn_id})\n",
    "    if count_docs > 0:\n",
    "        # get the projection from the database \n",
    "        proj = proj_col.find_one({\"stn_id\": stn_id}) \n",
    "    else:\n",
    "        \n",
    "        # get the projection from the ncfile and write it to the database \n",
    "        proj_attr = {}\n",
    "        proj_attr['grid_mapping_name'] = rf3.variables['proj'].getncattr(\"grid_mapping_name\") \n",
    "        standard_parallel = rf3.variables['proj'].getncattr(\"standard_parallel\")\n",
    "        proj_attr['standard_parallel'] =  standard_parallel.tolist()\n",
    "        proj_attr['longitude_of_central_meridian'] = rf3.variables['proj'].getncattr(\"longitude_of_central_meridian\")\n",
    "        proj_attr['latitude_of_projection_origin'] = rf3.variables['proj'].getncattr(\"latitude_of_projection_origin\")\n",
    "        proj_attr['false_easting'] = rf3.variables['proj'].getncattr(\"false_easting\") \n",
    "        proj_attr['false_northing'] = rf3.variables['proj'].getncattr(\"false_northing\") \n",
    "        \n",
    "        if \"towgs84\" in rf3.variables['proj'].__dict__ :\n",
    "            towgs84 = rf3.variables['proj'].getncattr(\"towgs84\")\n",
    "            proj_attr['towgs84'] = towgs84.tolist()\n",
    "        \n",
    "        x_attr = rf3.variables['x'].__dict__ \n",
    "        x = rf3['x'][:]\n",
    "        x_attr['x'] = Binary(x) \n",
    "        \n",
    "        y_attr = rf3.variables['y'].__dict__ \n",
    "        y = rf3['y'][:]\n",
    "        y_attr['y'] = Binary(y) \n",
    "        \n",
    "        proj['stn_id'] = stn_id\n",
    "        proj['proj'] = proj_attr \n",
    "        proj['y'] = y_attr\n",
    "        proj['x'] = x_attr\n",
    "\n",
    "        proj_id = proj_col.insert_one(proj).inserted_id"
   ],
   "outputs": [],
   "metadata": {}
  },
  {
   "cell_type": "code",
   "execution_count": null,
   "source": [
    "    # read in metadata for rainfall and write it out \n",
    "    rain_attr = rf3.variables[rain_variable].__dict__ \n",
    "    rain_attr['stn_id'] = int(stn_id) \n",
    "    rain_attr['variable'] = rain_variable\n",
    "    rain_attr['valid_time'] = valid_time\n",
    "    rain_attr['_FillValue'] = int(rain_attr['_FillValue'])\n",
    "\n",
    "    rain = rf3[rain_variable][:] / 0.05 \n",
    "\n",
    "    rle_rain = run_len.encode(rain) \n",
    "    rain_attr[rain_variable] = rle_rain\n",
    "    rr_id = rr_col.insert_one(rain_attr).inserted_id"
   ],
   "outputs": [],
   "metadata": {}
  },
  {
   "cell_type": "code",
   "execution_count": null,
   "source": [
    "# test reading the rainfall record \n",
    "test_rain = rr_col.find_one({\"valid_time\":valid_time,\"stn_id\": stn_id}) "
   ],
   "outputs": [],
   "metadata": {}
  },
  {
   "cell_type": "code",
   "execution_count": null,
   "source": [
    "precip = test_rain['precipitation'] \n",
    "print(precip)"
   ],
   "outputs": [],
   "metadata": {}
  }
 ],
 "metadata": {
  "orig_nbformat": 4,
  "language_info": {
   "name": "python",
   "version": "3.9.6",
   "mimetype": "text/x-python",
   "codemirror_mode": {
    "name": "ipython",
    "version": 3
   },
   "pygments_lexer": "ipython3",
   "nbconvert_exporter": "python",
   "file_extension": ".py"
  },
  "kernelspec": {
   "name": "python3",
   "display_name": "Python 3.9.6 64-bit ('rain_base': conda)"
  },
  "interpreter": {
   "hash": "cf6d8653a892b4c061ef89f2c098cc244a9531fbe7f40956bc5c2386f10950c8"
  }
 },
 "nbformat": 4,
 "nbformat_minor": 2
}