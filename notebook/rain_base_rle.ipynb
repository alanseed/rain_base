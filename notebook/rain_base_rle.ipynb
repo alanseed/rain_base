{
 "cells": [
  {
   "cell_type": "code",
   "execution_count": 1,
   "source": [
    "# test the use of runlength encoding for rainfields rain_rate data \n",
    "# a rainfield is identified using stn_id and valid_time\n",
    "# each stn_id has only one projection \n",
    "# TO DO change this when working with forecasts where we get many forecasts for a valid time \n",
    "# TO DO at the moment we only read in rain_rate, need to add rainfall accumulation as well "
   ],
   "outputs": [],
   "metadata": {}
  },
  {
   "cell_type": "code",
   "execution_count": 2,
   "source": [
    "from pymongo import MongoClient\n",
    "from netCDF4 import Dataset \n",
    "import datetime\n",
    "import numpy as np \n",
    "import collections\n",
    "import bson\n",
    "import run_len"
   ],
   "outputs": [],
   "metadata": {}
  },
  {
   "cell_type": "code",
   "execution_count": 3,
   "source": [
    "# open the nc file and read in the stn_id and valid time\n",
    "rf3_name=\"/home/awseed/data/RF3/prcp-crate/2021/20210129/310_20210129_003000.prcp-crate.nc\" \n",
    "rf3 = Dataset(rf3_name)\n",
    "stn_id = int(rf3.getncattr(\"station_id\"))\n",
    "time_stamp = int(rf3['valid_time'][:])\n",
    "valid_time = datetime.datetime.fromtimestamp(time_stamp) "
   ],
   "outputs": [],
   "metadata": {}
  },
  {
   "cell_type": "code",
   "execution_count": 4,
   "source": [
    "# open the database and collections\n",
    "client = MongoClient()\n",
    "db = client[\"test_2\"]\n",
    "proj_col = db[\"projection\"] \n",
    "vt_col   = db[\"valid_time\"]\n",
    "rr_col   = db[\"rain_rate\"]"
   ],
   "outputs": [],
   "metadata": {}
  },
  {
   "cell_type": "code",
   "execution_count": 5,
   "source": [
    "# check if we have a copy of this field in the database \n",
    "count_fields = vt_col.count_documents(filter={\"stn_id\": stn_id, \"valid_time\":valid_time}) "
   ],
   "outputs": [],
   "metadata": {}
  },
  {
   "cell_type": "code",
   "execution_count": 6,
   "source": [
    "if count_fields == 0:\n",
    "\n",
    "    # read the valid_time attrubutes from the nc file and insert into database \n",
    "    valid_time_attr = rf3.variables['valid_time'].__dict__ \n",
    "    valid_time_attr['valid_time'] = valid_time\n",
    "    valid_time_attr['stn_id'] = stn_id \n",
    "    vt_id = vt_col.insert_one(valid_time_attr).inserted_id\n",
    "\n",
    "    # get the projection details\n",
    "    proj = {}\n",
    "    count_docs = proj_col.count_documents(filter={\"stn_id\": stn_id})\n",
    "    if count_docs > 0:\n",
    "        # get the projection from the database \n",
    "        proj = proj_col.find_one({\"stn_id\": stn_id}) \n",
    "    else:\n",
    "        \n",
    "        # get the projection from the ncfile and write it to the database \n",
    "        proj_attr = {}\n",
    "        proj_attr['grid_mapping_name'] = rf3.variables['proj'].getncattr(\"grid_mapping_name\") \n",
    "        standard_parallel = rf3.variables['proj'].getncattr(\"standard_parallel\")\n",
    "        proj_attr['standard_parallel'] =  standard_parallel.tolist()\n",
    "        proj_attr['longitude_of_central_meridian'] = rf3.variables['proj'].getncattr(\"longitude_of_central_meridian\")\n",
    "        proj_attr['latitude_of_projection_origin'] = rf3.variables['proj'].getncattr(\"latitude_of_projection_origin\")\n",
    "        proj_attr['false_easting'] = rf3.variables['proj'].getncattr(\"false_easting\") \n",
    "        proj_attr['false_northing'] = rf3.variables['proj'].getncattr(\"false_northing\") \n",
    "        proj_attr['grid_mapping_name'] = rf3.variables['proj'].getncattr(\"grid_mapping_name\") \n",
    "        towgs84 = rf3.variables['proj'].getncattr(\"towgs84\")\n",
    "        proj_attr['towgs84'] = towgs84.tolist()\n",
    "        \n",
    "        x_attr = rf3.variables['x'].__dict__ \n",
    "        x = rf3['x'][:].tolist()\n",
    "        x_attr['x'] = x \n",
    "        \n",
    "        y_attr = rf3.variables['y'].__dict__ \n",
    "        y = rf3['y'][:].tolist()\n",
    "        y_attr['y'] = y \n",
    "        \n",
    "        proj['stn_id'] = stn_id\n",
    "        proj['proj'] = proj_attr \n",
    "        proj['y'] = y_attr\n",
    "        proj['x'] = x_attr\n",
    "\n",
    "        proj_id = proj_col.insert_one(proj).inserted_id\n",
    " \n",
    "    "
   ],
   "outputs": [],
   "metadata": {}
  },
  {
   "cell_type": "code",
   "execution_count": 9,
   "source": [
    "# read in metadata for rainfall \n",
    "rain_rate_attr = rf3.variables['rain_rate'].__dict__ \n",
    "rain_rate_attr['pjn_id'] = stn_id \n",
    "rain_rate_attr['valid_time'] = valid_time\n",
    "rain_rate = rf3['rain_rate'][:] \n",
    "rle_rain = run_len.encode(rain_rate, 20)\n",
    "print (len(rle_rain))\n",
    "    "
   ],
   "outputs": [
    {
     "output_type": "error",
     "ename": "ValueError",
     "evalue": "The truth value of an array with more than one element is ambiguous. Use a.any() or a.all()",
     "traceback": [
      "\u001b[0;31m---------------------------------------------------------------------------\u001b[0m",
      "\u001b[0;31mValueError\u001b[0m                                Traceback (most recent call last)",
      "\u001b[0;32m<ipython-input-9-a4130cb9dd2b>\u001b[0m in \u001b[0;36m<module>\u001b[0;34m\u001b[0m\n\u001b[1;32m      4\u001b[0m \u001b[0mrain_rate_attr\u001b[0m\u001b[0;34m[\u001b[0m\u001b[0;34m'valid_time'\u001b[0m\u001b[0;34m]\u001b[0m \u001b[0;34m=\u001b[0m \u001b[0mvalid_time\u001b[0m\u001b[0;34m\u001b[0m\u001b[0;34m\u001b[0m\u001b[0m\n\u001b[1;32m      5\u001b[0m \u001b[0mrain_rate\u001b[0m \u001b[0;34m=\u001b[0m \u001b[0mrf3\u001b[0m\u001b[0;34m[\u001b[0m\u001b[0;34m'rain_rate'\u001b[0m\u001b[0;34m]\u001b[0m\u001b[0;34m[\u001b[0m\u001b[0;34m:\u001b[0m\u001b[0;34m]\u001b[0m\u001b[0;34m\u001b[0m\u001b[0;34m\u001b[0m\u001b[0m\n\u001b[0;32m----> 6\u001b[0;31m \u001b[0mrle_rain\u001b[0m \u001b[0;34m=\u001b[0m \u001b[0mrle_encode\u001b[0m\u001b[0;34m(\u001b[0m\u001b[0mrain_rate\u001b[0m\u001b[0;34m,\u001b[0m \u001b[0;36m20\u001b[0m\u001b[0;34m)\u001b[0m\u001b[0;34m\u001b[0m\u001b[0;34m\u001b[0m\u001b[0m\n\u001b[0m\u001b[1;32m      7\u001b[0m \u001b[0mprint\u001b[0m \u001b[0;34m(\u001b[0m\u001b[0mlen\u001b[0m\u001b[0;34m(\u001b[0m\u001b[0mrle_rain\u001b[0m\u001b[0;34m)\u001b[0m\u001b[0;34m)\u001b[0m\u001b[0;34m\u001b[0m\u001b[0;34m\u001b[0m\u001b[0m\n\u001b[1;32m      8\u001b[0m \u001b[0;34m\u001b[0m\u001b[0m\n",
      "\u001b[0;32m<ipython-input-7-35474f43a859>\u001b[0m in \u001b[0;36mrle_encode\u001b[0;34m(rain_rate, min_rain_threshold)\u001b[0m\n\u001b[1;32m     11\u001b[0m \u001b[0;34m\u001b[0m\u001b[0m\n\u001b[1;32m     12\u001b[0m     \u001b[0;31m# set the low values to zero\u001b[0m\u001b[0;34m\u001b[0m\u001b[0;34m\u001b[0m\u001b[0;34m\u001b[0m\u001b[0m\n\u001b[0;32m---> 13\u001b[0;31m     \u001b[0mlow_value_flag\u001b[0m \u001b[0;34m=\u001b[0m \u001b[0mnp\u001b[0m\u001b[0;34m.\u001b[0m\u001b[0mwhere\u001b[0m\u001b[0;34m(\u001b[0m\u001b[0min_array\u001b[0m \u001b[0;34m>\u001b[0m \u001b[0;36m0\u001b[0m \u001b[0;32mand\u001b[0m \u001b[0min_array\u001b[0m \u001b[0;34m<\u001b[0m \u001b[0mmin_rain_threshold\u001b[0m\u001b[0;34m)\u001b[0m\u001b[0;34m\u001b[0m\u001b[0;34m\u001b[0m\u001b[0m\n\u001b[0m\u001b[1;32m     14\u001b[0m     \u001b[0min_array\u001b[0m\u001b[0;34m[\u001b[0m\u001b[0mlow_value_flag\u001b[0m\u001b[0;34m]\u001b[0m \u001b[0;34m=\u001b[0m \u001b[0;36m0\u001b[0m\u001b[0;34m\u001b[0m\u001b[0;34m\u001b[0m\u001b[0m\n\u001b[1;32m     15\u001b[0m \u001b[0;34m\u001b[0m\u001b[0m\n",
      "\u001b[0;31mValueError\u001b[0m: The truth value of an array with more than one element is ambiguous. Use a.any() or a.all()"
     ]
    }
   ],
   "metadata": {}
  },
  {
   "cell_type": "code",
   "execution_count": null,
   "source": [],
   "outputs": [],
   "metadata": {}
  },
  {
   "cell_type": "code",
   "execution_count": null,
   "source": [],
   "outputs": [],
   "metadata": {}
  }
 ],
 "metadata": {
  "orig_nbformat": 4,
  "language_info": {
   "name": "python",
   "version": "3.9.6",
   "mimetype": "text/x-python",
   "codemirror_mode": {
    "name": "ipython",
    "version": 3
   },
   "pygments_lexer": "ipython3",
   "nbconvert_exporter": "python",
   "file_extension": ".py"
  },
  "kernelspec": {
   "name": "python3",
   "display_name": "Python 3.9.6 64-bit ('rain_base': conda)"
  },
  "interpreter": {
   "hash": "cf6d8653a892b4c061ef89f2c098cc244a9531fbe7f40956bc5c2386f10950c8"
  }
 },
 "nbformat": 4,
 "nbformat_minor": 2
}